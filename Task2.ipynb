{
 "cells": [
  {
   "cell_type": "markdown",
   "id": "bab931d4-efd2-42f7-887a-3d8607ced7bf",
   "metadata": {},
   "source": [
    "                 Task 2"
   ]
  },
  {
   "cell_type": "markdown",
   "id": "801dedd6-4590-4156-9879-113e4f87cbd4",
   "metadata": {},
   "source": [
    "## If-else"
   ]
  },
  {
   "cell_type": "markdown",
   "id": "73ab972e-bbec-4fb2-85b9-f20136cf9613",
   "metadata": {},
   "source": [
    "1] grade code"
   ]
  },
  {
   "cell_type": "code",
   "execution_count": 1,
   "id": "48743e0d-b7d8-4d99-894d-ef424a2e9368",
   "metadata": {},
   "outputs": [
    {
     "name": "stdout",
     "output_type": "stream",
     "text": [
      "Grade:C\n"
     ]
    }
   ],
   "source": [
    "p=50\n",
    "if p>75:\n",
    "    print(\"Grade:O\")\n",
    "elif p>60:\n",
    "    print(\"Grade:A\")\n",
    "elif p>50:\n",
    "    print(\"Grade:B\")\n",
    "elif p>35:\n",
    "    print(\"Grade:C\")\n",
    "else:\n",
    "    print(\"Fail\")"
   ]
  },
  {
   "cell_type": "markdown",
   "id": "16ded151-0fbc-45e2-95b7-164a4e2b8406",
   "metadata": {},
   "source": [
    "2] n divisible by 2 or 3"
   ]
  },
  {
   "cell_type": "code",
   "execution_count": 2,
   "id": "16faea18-5975-47d8-86ec-72b78365a275",
   "metadata": {},
   "outputs": [
    {
     "name": "stdout",
     "output_type": "stream",
     "text": [
      "Not divisible by 2 or 3\n"
     ]
    }
   ],
   "source": [
    "n=7\n",
    "if n % 2 == 0 and n %3 == 0:\n",
    "    print(\"Divisible by 2 and 3\")\n",
    "elif n % 2 == 0:\n",
    "    print(\"Divisible by 2,not 3\")\n",
    "elif n % 3 == 0:\n",
    "    print(\"Divisible by 3, not 2\")\n",
    "else:\n",
    "    print(\"Not divisible by 2 or 3\")"
   ]
  },
  {
   "cell_type": "markdown",
   "id": "be8d2f89-4ffe-4b62-a679-73e177c93f4f",
   "metadata": {},
   "source": [
    "5 Examples using only if"
   ]
  },
  {
   "cell_type": "code",
   "execution_count": 11,
   "id": "4b08f0a2-ca07-453a-a4f4-b9f3a6ca26cc",
   "metadata": {},
   "outputs": [
    {
     "name": "stdout",
     "output_type": "stream",
     "text": [
      "positive number\n"
     ]
    }
   ],
   "source": [
    "# 1] check if a number is positive\n",
    "x=2\n",
    "if x>0:\n",
    "    print(\"positive number\")"
   ]
  },
  {
   "cell_type": "code",
   "execution_count": 14,
   "id": "ee9e147a-9501-4f4c-b02c-39d377a33e72",
   "metadata": {},
   "outputs": [
    {
     "name": "stdout",
     "output_type": "stream",
     "text": [
      "you are an adult\n"
     ]
    }
   ],
   "source": [
    "#2] check if age is above 18\n",
    "age=20\n",
    "if age>18:\n",
    "    print(\"you are an adult\")\n",
    "    \n"
   ]
  },
  {
   "cell_type": "code",
   "execution_count": 19,
   "id": "38748db4-d70b-4faf-af43-e5ad74c0d92d",
   "metadata": {},
   "outputs": [
    {
     "name": "stdout",
     "output_type": "stream",
     "text": [
      "x is greater than 5\n"
     ]
    }
   ],
   "source": [
    "# 4] check if number is greater than 5\n",
    "x=6\n",
    "if x > 5:\n",
    "    print(\"x is greater than 5\")"
   ]
  },
  {
   "cell_type": "code",
   "execution_count": 21,
   "id": "f5845996-9659-485a-8acc-d21227d39f0b",
   "metadata": {},
   "outputs": [
    {
     "name": "stdout",
     "output_type": "stream",
     "text": [
      "x is smaller than y\n"
     ]
    }
   ],
   "source": [
    "# 5] check if number is smaller than y\n",
    "x=3\n",
    "y=10\n",
    "if x<y:\n",
    "    print(\"x is smaller than y\")"
   ]
  },
  {
   "cell_type": "markdown",
   "id": "b9c0cef4-864c-4937-800d-892bd4b8a57d",
   "metadata": {},
   "source": [
    "5 Examples using only if else"
   ]
  },
  {
   "cell_type": "code",
   "execution_count": 22,
   "id": "6f49dab2-e7f9-4a6e-8d88-0fba48fe5b47",
   "metadata": {},
   "outputs": [
    {
     "name": "stdout",
     "output_type": "stream",
     "text": [
      "odd\n"
     ]
    }
   ],
   "source": [
    "# 1.Even or odd\n",
    "num = 3\n",
    "if num % 2 == 0:\n",
    "    print(\"Even\")\n",
    "else:\n",
    "    print(\"odd\")"
   ]
  },
  {
   "cell_type": "code",
   "execution_count": 23,
   "id": "b64653bd-033f-4bc2-8cf7-a5e3f094c127",
   "metadata": {},
   "outputs": [
    {
     "name": "stdout",
     "output_type": "stream",
     "text": [
      "Minor\n"
     ]
    }
   ],
   "source": [
    "# 2.Adult or Minor\n",
    "age = 15\n",
    "if age >= 18:\n",
    "    print(\"Adult\")\n",
    "else:\n",
    "    print(\"Minor\")"
   ]
  },
  {
   "cell_type": "code",
   "execution_count": 25,
   "id": "24c091d2-c9f6-443d-ae96-fb1caa9fe90e",
   "metadata": {},
   "outputs": [
    {
     "name": "stdout",
     "output_type": "stream",
     "text": [
      "fail\n"
     ]
    }
   ],
   "source": [
    "# 3.pass or fail\n",
    "Mark = 32\n",
    "if Mark >= 35:\n",
    "    print(\"pass\")\n",
    "else:\n",
    "    print(\"fail\")\n"
   ]
  },
  {
   "cell_type": "code",
   "execution_count": 26,
   "id": "2f7c88c2-4326-4f70-b395-62f68ab47873",
   "metadata": {},
   "outputs": [
    {
     "name": "stdout",
     "output_type": "stream",
     "text": [
      "Normal\n"
     ]
    }
   ],
   "source": [
    "# 4.Temperature ckeck\n",
    "temp=30\n",
    "if temp>30:\n",
    "    print(\"hot\")\n",
    "else:\n",
    "    print(\"Normal\")\n",
    "    "
   ]
  },
  {
   "cell_type": "code",
   "execution_count": 27,
   "id": "3c05a572-78e9-4e4a-9fa9-2f2f0f0996b6",
   "metadata": {},
   "outputs": [
    {
     "name": "stdout",
     "output_type": "stream",
     "text": [
      "Negative\n"
     ]
    }
   ],
   "source": [
    "# 5. negative or positive\n",
    "x = -5\n",
    "if x < 0:\n",
    "    print(\"Negative\")\n",
    "else:\n",
    "    print(\"positive\")"
   ]
  },
  {
   "cell_type": "markdown",
   "id": "b59f85e2-4e79-4437-bd35-3832ae251772",
   "metadata": {},
   "source": [
    "5 Examples using only if elife else"
   ]
  },
  {
   "cell_type": "code",
   "execution_count": 29,
   "id": "5cfb3cb7-0f6a-40fc-8081-3d637e1890cd",
   "metadata": {},
   "outputs": [
    {
     "name": "stdout",
     "output_type": "stream",
     "text": [
      "Positive\n"
     ]
    }
   ],
   "source": [
    "#1. Number of sign \n",
    "x = 5\n",
    "if x>0:\n",
    "    print(\"Positive\")\n",
    "elif x<0:\n",
    "    print(\"Negative\")\n",
    "else:\n",
    "    print(\"Zero\")"
   ]
  },
  {
   "cell_type": "code",
   "execution_count": 30,
   "id": "e0a4bfda-279e-41c2-8f72-8a84311a8200",
   "metadata": {},
   "outputs": [
    {
     "name": "stdout",
     "output_type": "stream",
     "text": [
      "no\n",
      "no\n",
      "no\n",
      "no\n",
      "no\n",
      "what\n",
      "yes\n",
      "yes\n",
      "yes\n",
      "yes\n"
     ]
    }
   ],
   "source": [
    "#2.\n",
    "for i in range (-5,5):\n",
    "    if i>0:\n",
    "        print(\"yes\")\n",
    "    elif i==0:\n",
    "        print(\"what\")\n",
    "    else:\n",
    "        print(\"no\")"
   ]
  },
  {
   "cell_type": "code",
   "execution_count": 31,
   "id": "5f3b72a1-1cec-4045-a944-373931600ff7",
   "metadata": {},
   "outputs": [
    {
     "name": "stdout",
     "output_type": "stream",
     "text": [
      "Ready\n"
     ]
    }
   ],
   "source": [
    "#3.Traffic light\n",
    "light=\"yellow\"\n",
    "if light == \"red\":\n",
    "    print(\"stop\")\n",
    "elif light == \"yellow\":\n",
    "    print(\"Ready\")\n",
    "else:\n",
    "    print(\"Go\")\n"
   ]
  },
  {
   "cell_type": "code",
   "execution_count": 33,
   "id": "4a52dd5b-6559-44a3-89ff-99d9d8a3cc1f",
   "metadata": {},
   "outputs": [
    {
     "name": "stdout",
     "output_type": "stream",
     "text": [
      "Adult\n"
     ]
    }
   ],
   "source": [
    "#4.Age category\n",
    "age = 50\n",
    "if age < 13:\n",
    "    print(\"Child\")\n",
    "elif age < 60:\n",
    "    print(\"Adult\")\n",
    "else:\n",
    "    print(\"senior citizen\")"
   ]
  },
  {
   "cell_type": "code",
   "execution_count": 41,
   "id": "688d9f19-28bb-4746-8fd8-0ff4a67efa99",
   "metadata": {},
   "outputs": [
    {
     "name": "stdout",
     "output_type": "stream",
     "text": [
      "a and b are equal\n"
     ]
    }
   ],
   "source": [
    "#5.\n",
    "a = 10\n",
    "b = 10\n",
    "if b > a:\n",
    "    print(\"b is greater than a\")\n",
    "elif a == b:\n",
    "    print(\"a and b are equal\")\n",
    "    "
   ]
  },
  {
   "cell_type": "markdown",
   "id": "5bea5884-30fd-4e17-aa6c-3b2cbb416a39",
   "metadata": {},
   "source": [
    "## For loop"
   ]
  },
  {
   "cell_type": "code",
   "execution_count": 44,
   "id": "9ae92efb-25a7-4e9e-90b0-353237abed1b",
   "metadata": {},
   "outputs": [
    {
     "name": "stdout",
     "output_type": "stream",
     "text": [
      "21\n",
      "23\n",
      "25\n",
      "27\n",
      "29\n",
      "31\n",
      "33\n",
      "35\n",
      "37\n",
      "39\n",
      "41\n",
      "43\n",
      "45\n",
      "47\n",
      "49\n",
      "51\n",
      "53\n",
      "55\n",
      "57\n",
      "59\n",
      "61\n",
      "63\n",
      "65\n",
      "67\n",
      "69\n",
      "71\n",
      "73\n",
      "75\n",
      "77\n",
      "79\n"
     ]
    }
   ],
   "source": [
    "#1.print odd value between 20 and 80 without using if.using for loop only\n",
    "for i in range(21,81,2):\n",
    "        print(i)\n",
    "        \n",
    "    "
   ]
  },
  {
   "cell_type": "code",
   "execution_count": 45,
   "id": "53f3eb69-3175-4af6-bc64-f14ea7d9ef42",
   "metadata": {},
   "outputs": [
    {
     "name": "stdout",
     "output_type": "stream",
     "text": [
      "[1]\n",
      "[1, 2]\n",
      "[1, 2, 3]\n",
      "[1, 2, 3, 4]\n",
      "[1, 2, 3, 4, 5]\n",
      "[1, 2, 3, 4, 5, 6]\n",
      "[1, 2, 3, 4, 5, 6, 7]\n",
      "[1, 2, 3, 4, 5, 6, 7, 8]\n",
      "[1, 2, 3, 4, 5, 6, 7, 8, 9]\n",
      "[1, 2, 3, 4, 5, 6, 7, 8, 9, 10]\n",
      "[1, 2, 3, 4, 5, 6, 7, 8, 9, 10, 11]\n",
      "[1, 2, 3, 4, 5, 6, 7, 8, 9, 10, 11, 12]\n",
      "[1, 2, 3, 4, 5, 6, 7, 8, 9, 10, 11, 12, 13]\n",
      "[1, 2, 3, 4, 5, 6, 7, 8, 9, 10, 11, 12, 13, 14]\n",
      "[1, 2, 3, 4, 5, 6, 7, 8, 9, 10, 11, 12, 13, 14, 15]\n",
      "[1, 2, 3, 4, 5, 6, 7, 8, 9, 10, 11, 12, 13, 14, 15, 16]\n",
      "[1, 2, 3, 4, 5, 6, 7, 8, 9, 10, 11, 12, 13, 14, 15, 16, 17]\n",
      "[1, 2, 3, 4, 5, 6, 7, 8, 9, 10, 11, 12, 13, 14, 15, 16, 17, 18]\n",
      "[1, 2, 3, 4, 5, 6, 7, 8, 9, 10, 11, 12, 13, 14, 15, 16, 17, 18, 19]\n",
      "[1, 2, 3, 4, 5, 6, 7, 8, 9, 10, 11, 12, 13, 14, 15, 16, 17, 18, 19, 20]\n"
     ]
    }
   ],
   "source": [
    "#2) creat a list of 1 to 20 number using for loop [1,2,3..20]\n",
    "num = []\n",
    "for i in range(1,21):\n",
    "    num.append(i)\n",
    "    print(num)\n",
    "    "
   ]
  },
  {
   "cell_type": "code",
   "execution_count": 47,
   "id": "a123dbcb-6d12-46b4-8623-27c2311a9ac5",
   "metadata": {},
   "outputs": [
    {
     "name": "stdout",
     "output_type": "stream",
     "text": [
      "[20]\n",
      "[20, 19]\n",
      "[20, 19, 18]\n",
      "[20, 19, 18, 17]\n",
      "[20, 19, 18, 17, 16]\n",
      "[20, 19, 18, 17, 16, 15]\n",
      "[20, 19, 18, 17, 16, 15, 14]\n",
      "[20, 19, 18, 17, 16, 15, 14, 13]\n",
      "[20, 19, 18, 17, 16, 15, 14, 13, 12]\n",
      "[20, 19, 18, 17, 16, 15, 14, 13, 12, 11]\n",
      "[20, 19, 18, 17, 16, 15, 14, 13, 12, 11, 10]\n",
      "[20, 19, 18, 17, 16, 15, 14, 13, 12, 11, 10, 9]\n",
      "[20, 19, 18, 17, 16, 15, 14, 13, 12, 11, 10, 9, 8]\n",
      "[20, 19, 18, 17, 16, 15, 14, 13, 12, 11, 10, 9, 8, 7]\n",
      "[20, 19, 18, 17, 16, 15, 14, 13, 12, 11, 10, 9, 8, 7, 6]\n",
      "[20, 19, 18, 17, 16, 15, 14, 13, 12, 11, 10, 9, 8, 7, 6, 5]\n",
      "[20, 19, 18, 17, 16, 15, 14, 13, 12, 11, 10, 9, 8, 7, 6, 5, 4]\n",
      "[20, 19, 18, 17, 16, 15, 14, 13, 12, 11, 10, 9, 8, 7, 6, 5, 4, 3]\n",
      "[20, 19, 18, 17, 16, 15, 14, 13, 12, 11, 10, 9, 8, 7, 6, 5, 4, 3, 2]\n",
      "[20, 19, 18, 17, 16, 15, 14, 13, 12, 11, 10, 9, 8, 7, 6, 5, 4, 3, 2, 1]\n"
     ]
    }
   ],
   "source": [
    "#3)create a  list of 20 to 1 value using  for loop (dont Use Reverse)\n",
    "list = []\n",
    "for i in range(20,0,-1):\n",
    "    list.append(i)\n",
    "    print(list)\n"
   ]
  },
  {
   "cell_type": "code",
   "execution_count": 49,
   "id": "2c50947f-8027-4032-afa3-2eb9c5873583",
   "metadata": {},
   "outputs": [
    {
     "name": "stdout",
     "output_type": "stream",
     "text": [
      "cube of21 is 9261\n",
      "cube of23 is 12167\n",
      "cube of25 is 15625\n",
      "cube of27 is 19683\n",
      "cube of29 is 24389\n",
      "cube of31 is 29791\n",
      "cube of33 is 35937\n",
      "cube of35 is 42875\n",
      "cube of37 is 50653\n",
      "cube of39 is 59319\n"
     ]
    }
   ],
   "source": [
    "#4)take Cube of odd values between 20 to 40\n",
    "for i in range (21,41,2):\n",
    "    print(f\"cube of{i} is {i**3}\")"
   ]
  },
  {
   "cell_type": "code",
   "execution_count": 51,
   "id": "de281ab3-8023-4bad-a934-1bbd13f066a0",
   "metadata": {},
   "outputs": [
    {
     "name": "stdout",
     "output_type": "stream",
     "text": [
      "My name is a,my age is 20\n",
      "My name is b,my age is 21\n",
      "My name is c,my age is 23\n",
      "My name is d,my age is 25\n",
      "My name is e,my age is 24\n"
     ]
    }
   ],
   "source": [
    "#5.\n",
    "names = ['a','b','c','d','e']\n",
    "age = [20,21,23,25,24]\n",
    "for i in range (len(names)):\n",
    "    print(f\"My name is {names[i]},my age is {age[i]}\")"
   ]
  },
  {
   "cell_type": "code",
   "execution_count": 8,
   "id": "e28bfea4-abd1-44d6-b671-255bcd8cd560",
   "metadata": {},
   "outputs": [
    {
     "name": "stdout",
     "output_type": "stream",
     "text": [
      "[5, 2, 3, 4, 1]\n"
     ]
    }
   ],
   "source": [
    "#write a Python code  to swap first and last element of the list.\n",
    "list = [1, 2, 3, 4, 5]\n",
    "if len(list) >= 2:\n",
    "    list[0], list[-1] = list[-1], list[0]\n",
    "print(list)"
   ]
  },
  {
   "cell_type": "code",
   "execution_count": 14,
   "id": "5d316bde-bd1b-460e-adac-547733ee418d",
   "metadata": {},
   "outputs": [
    {
     "name": "stdout",
     "output_type": "stream",
     "text": [
      "Length of the string: 13\n"
     ]
    }
   ],
   "source": [
    "#write code count lenght of string\n",
    "def count_length(s):\n",
    "    return len(s)\n",
    "\n",
    "string = \"Hello, World!\"\n",
    "print(\"Length of the string:\", count_length(string))"
   ]
  },
  {
   "cell_type": "code",
   "execution_count": 1,
   "id": "8c01d814-a746-491d-ab82-ef3b7f571558",
   "metadata": {},
   "outputs": [
    {
     "name": "stdout",
     "output_type": "stream",
     "text": [
      "Sum of non-negative integers: 15\n"
     ]
    }
   ],
   "source": [
    "#Write a Python program to get the sum of a only non-negative integer\n",
    "def sum_non_negative(numbers):\n",
    "    total = 0\n",
    "    for num in numbers:\n",
    "        if num >= 0:\n",
    "            total += num\n",
    "    return total\n",
    "\n",
    "numbers = [1, 4, -5, -20, 10]\n",
    "print(\"Sum of non-negative integers:\", sum_non_negative(numbers))"
   ]
  },
  {
   "cell_type": "markdown",
   "id": "9eb50dbb-8ce9-4fbe-b5ad-ed4c2da8474f",
   "metadata": {},
   "source": [
    "## While Loop"
   ]
  },
  {
   "cell_type": "code",
   "execution_count": 9,
   "id": "4a9b7f82-826f-4df2-8175-9145234859bd",
   "metadata": {},
   "outputs": [
    {
     "name": "stdin",
     "output_type": "stream",
     "text": [
      "Enter a number:  1\n"
     ]
    },
    {
     "name": "stdout",
     "output_type": "stream",
     "text": [
      "1 is odd\n"
     ]
    }
   ],
   "source": [
    "#1)odd-even using while loop\n",
    "num = int(input(\"Enter a number: \"))\n",
    "i = 1\n",
    "while i <= num:\n",
    "    if i % 2 == 0:\n",
    "        print(f\"{i} is even\")\n",
    "    else:\n",
    "        print(f\"{i} is odd\")\n",
    "        i += 1"
   ]
  },
  {
   "cell_type": "code",
   "execution_count": null,
   "id": "255c69af-4e5b-4c34-bc4b-4f1f32293a6b",
   "metadata": {},
   "outputs": [],
   "source": [
    "#2)\n",
    "i = 1\n",
    "while i <= 5:\n",
    "    j = 1\n",
    "    while j <= i:\n",
    "        print(\"*\",end=\"\")\n",
    "        j += 1    \n",
    "    print()\n",
    "    i += 1"
   ]
  },
  {
   "cell_type": "code",
   "execution_count": 1,
   "id": "ebec7ec8-e788-4083-bcc4-2d69d76ac701",
   "metadata": {},
   "outputs": [
    {
     "name": "stdout",
     "output_type": "stream",
     "text": [
      "[1, 2, 3, 4, 5, 6, 7, 8, 9, 10, 11, 12, 13, 14, 15, 16, 17, 18, 19, 20]\n"
     ]
    }
   ],
   "source": [
    "##3) creat list 1-20 numbers list using while loop=> [1,2,3... 20]\n",
    "i = 1\n",
    "numbers = []\n",
    "\n",
    "while i <= 20:\n",
    "    numbers.append(i)\n",
    "    i += 1\n",
    "\n",
    "print(numbers)"
   ]
  },
  {
   "cell_type": "code",
   "execution_count": 2,
   "id": "3c2e298d-dcd8-4dd7-856a-2be87be275c7",
   "metadata": {},
   "outputs": [
    {
     "name": "stdout",
     "output_type": "stream",
     "text": [
      "[20, 19, 18, 17, 16, 15, 14, 13, 12, 11, 10, 9, 8, 7, 6, 5, 4, 3, 2, 1]\n"
     ]
    }
   ],
   "source": [
    "#4)  creat list 20-1 (revers order) using while loop=> [20,19...1]\n",
    "i = 20\n",
    "rev_list = []\n",
    "\n",
    "while i >= 1:\n",
    "    rev_list.append(i)\n",
    "    i -= 1\n",
    "\n",
    "print(rev_list)"
   ]
  },
  {
   "cell_type": "code",
   "execution_count": 1,
   "id": "8584be08-f6e1-44f1-b67d-febfbcb62409",
   "metadata": {},
   "outputs": [
    {
     "name": "stdout",
     "output_type": "stream",
     "text": [
      "1\n",
      "2\n",
      "3\n",
      "4\n",
      "6\n",
      "7\n",
      "8\n"
     ]
    }
   ],
   "source": [
    "#try with one any eg.break,continue,pass control statement\n",
    "i = 1\n",
    "while i <= 10:\n",
    "    if i == 5:\n",
    "        i += 1\n",
    "        continue #skip 5\n",
    "    if i > 8:\n",
    "     break    # skip at 8    \n",
    "    if i == 3:\n",
    "         pass #do nothing , just pass\n",
    "    print(i)\n",
    "    i += 1\n"
   ]
  },
  {
   "cell_type": "code",
   "execution_count": null,
   "id": "770bd3a3-5eed-4671-a8fa-5f48360c6550",
   "metadata": {},
   "outputs": [],
   "source": []
  }
 ],
 "metadata": {
  "kernelspec": {
   "display_name": "Python 3 (ipykernel)",
   "language": "python",
   "name": "python3"
  },
  "language_info": {
   "codemirror_mode": {
    "name": "ipython",
    "version": 3
   },
   "file_extension": ".py",
   "mimetype": "text/x-python",
   "name": "python",
   "nbconvert_exporter": "python",
   "pygments_lexer": "ipython3",
   "version": "3.12.7"
  }
 },
 "nbformat": 4,
 "nbformat_minor": 5
}
