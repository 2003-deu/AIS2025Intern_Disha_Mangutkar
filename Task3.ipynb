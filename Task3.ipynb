{
 "cells": [
  {
   "cell_type": "markdown",
   "id": "851e5297-5eb2-44ef-9f94-8b217876a584",
   "metadata": {},
   "source": [
    "                              Task 3"
   ]
  },
  {
   "cell_type": "code",
   "execution_count": 7,
   "id": "0bf5a53b-176b-4db5-9308-634534a52940",
   "metadata": {},
   "outputs": [],
   "source": [
    "#1. Write a Python function to find the maximum of from given numbers\n",
    "def find_max(a,b,c):\n",
    "    return max(a,b,c)\n"
   ]
  },
  {
   "cell_type": "code",
   "execution_count": 13,
   "id": "36a5ee90-854a-4404-9d17-4b322b474cea",
   "metadata": {},
   "outputs": [
    {
     "name": "stdout",
     "output_type": "stream",
     "text": [
      "Expected output: 20\n"
     ]
    }
   ],
   "source": [
    "#2)Write a Python function to sum all the numbers in a list\n",
    "def sum_list(numbers):\n",
    "    return sum(numbers)\n",
    "    #sample use\n",
    "sample_list=[8,2,3,0,7]\n",
    "print(\"Expected output:\",sum_list(sample_list))\n"
   ]
  },
  {
   "cell_type": "code",
   "execution_count": 14,
   "id": "28662778-d756-4b42-b8d0-2aa3be623e8a",
   "metadata": {},
   "outputs": [
    {
     "name": "stdout",
     "output_type": "stream",
     "text": [
      "Unique List: [1, 2, 3, 4, 5]\n"
     ]
    }
   ],
   "source": [
    "#3)Write a Python function that takes a list and returns a new list with distinct elements from the first list\n",
    "def unique_list(lst):\n",
    "    return list(set(lst))\n",
    "    #Example\n",
    "sample_list = [1, 2, 3, 3, 3, 3, 4, 5]\n",
    "print(\"Unique List:\", unique_list(sample_list))  "
   ]
  },
  {
   "cell_type": "code",
   "execution_count": 16,
   "id": "b56f13df-405d-4961-92ef-6b6251ebfaf3",
   "metadata": {},
   "outputs": [
    {
     "name": "stdout",
     "output_type": "stream",
     "text": [
      "Combinations are: ['ab', 'ac', 'bc']\n",
      "Total number of combinations: 3\n"
     ]
    }
   ],
   "source": [
    "#4)Write a Python function total number of  Combinations.\n",
    "from itertools import combinations\n",
    "\n",
    "def total_combinations(elements):\n",
    "    comb = list(combinations(elements, 2))\n",
    "    print(\"Combinations are:\", [''.join(c) for c in comb])\n",
    "    return len(comb)\n",
    "\n",
    "# Exmple\n",
    "sample_elements = ['a', 'b', 'c']\n",
    "print(\"Total number of combinations:\", total_combinations(sample_elements))\n",
    "\n"
   ]
  },
  {
   "cell_type": "code",
   "execution_count": 17,
   "id": "9d705f4e-9ba7-4563-932a-ceee42c41939",
   "metadata": {},
   "outputs": [
    {
     "name": "stdout",
     "output_type": "stream",
     "text": [
      "Permutations are: ['ab', 'ac', 'ba', 'bc', 'ca', 'cb']\n",
      "Total number of permutations: 6\n"
     ]
    }
   ],
   "source": [
    "#5)Write a Python function total number of  permutation\n",
    "from itertools import permutations\n",
    "\n",
    "def total_permutations(elements):\n",
    "    perm = list(permutations(elements, 2))  # Only 2-letter permutations\n",
    "    print(\"Permutations are:\", [''.join(p) for p in perm])\n",
    "    return len(perm)\n",
    "\n",
    "# Sample use\n",
    "sample_elements = ['a', 'b', 'c']\n",
    "print(\"Total number of permutations:\", total_permutations(sample_elements))"
   ]
  },
  {
   "cell_type": "code",
   "execution_count": 18,
   "id": "a2864718-acf7-42df-82d9-d7df37ffb48b",
   "metadata": {},
   "outputs": [
    {
     "name": "stdout",
     "output_type": "stream",
     "text": [
      "Count of vowel is = 3\n",
      "Count of consonant is = 7\n"
     ]
    }
   ],
   "source": [
    "#6)Exercise 5: Define a function which counts vowels and consonant in a word.\n",
    "def count_vowels_consonants(word):\n",
    "    vowels = 'aeiouAEIOU'\n",
    "    vowel_count = 0\n",
    "    consonant_count = 0\n",
    "\n",
    "    for char in word:\n",
    "        if char.isalpha():\n",
    "            if char in vowels:\n",
    "                vowel_count += 1\n",
    "            else:\n",
    "                consonant_count += 1\n",
    "\n",
    "    print(\"Count of vowel is =\", vowel_count)\n",
    "    print(\"Count of consonant is =\", consonant_count)\n",
    "\n",
    "# Example\n",
    "count_vowels_consonants(\"statistics\")"
   ]
  },
  {
   "cell_type": "code",
   "execution_count": 19,
   "id": "14b06bae-b659-46b4-9b62-4e8fba5d66b4",
   "metadata": {},
   "outputs": [
    {
     "name": "stdout",
     "output_type": "stream",
     "text": [
      "Result is = STATISTICS\n"
     ]
    }
   ],
   "source": [
    "#7): Define a function that accepts lowercase words and returns uppercase words.\n",
    "def convert_to_uppercase(word):\n",
    "    result = word.upper()\n",
    "    print(\"Result is =\", result)\n",
    "\n",
    "# Sample use\n",
    "convert_to_uppercase(\"statistics\")"
   ]
  },
  {
   "cell_type": "code",
   "execution_count": 1,
   "id": "de29d5ea-3052-4949-b52e-4ef7e5eceb82",
   "metadata": {},
   "outputs": [
    {
     "name": "stdout",
     "output_type": "stream",
     "text": [
      "Upper case: 5\n",
      "Lower case: 5\n"
     ]
    }
   ],
   "source": [
    "#8) count lower case and upper case  letter.\n",
    "def count_case_letters(text):\n",
    "    upper_count = 0\n",
    "    lower_count = 0\n",
    "\n",
    "    for char in text:\n",
    "        if char.isupper():\n",
    "            upper_count += 1\n",
    "        elif char.islower():\n",
    "            lower_count += 1\n",
    "\n",
    "    print(\"Upper case:\", upper_count)\n",
    "    print(\"Lower case:\", lower_count)\n",
    "\n",
    "# Example\n",
    "count_case_letters(\"STatiStiCS\")"
   ]
  },
  {
   "cell_type": "code",
   "execution_count": null,
   "id": "beff7591-caa6-4c7c-8547-4b2a5b2b7c6b",
   "metadata": {},
   "outputs": [],
   "source": []
  }
 ],
 "metadata": {
  "kernelspec": {
   "display_name": "Python 3 (ipykernel)",
   "language": "python",
   "name": "python3"
  },
  "language_info": {
   "codemirror_mode": {
    "name": "ipython",
    "version": 3
   },
   "file_extension": ".py",
   "mimetype": "text/x-python",
   "name": "python",
   "nbconvert_exporter": "python",
   "pygments_lexer": "ipython3",
   "version": "3.12.7"
  }
 },
 "nbformat": 4,
 "nbformat_minor": 5
}
