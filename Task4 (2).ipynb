{
 "cells": [
  {
   "cell_type": "markdown",
   "id": "b9c10b27-844b-4db7-a827-28cfcbb31824",
   "metadata": {},
   "source": [
    "                                Task4\n",
    "                                "
   ]
  },
  {
   "cell_type": "markdown",
   "id": "b9867fec-4d62-43db-8d3a-6abbfdd47057",
   "metadata": {},
   "source": [
    "Introduction to NumPy:\n",
    "                       NumPy (Numerical Python) is the fundamental package for numerical computation in Python.It is the most popular machine learning library in Python.NumPy is a Python library used for working with arrays. It also has functions for working in domain of linear algebra, fourier transform, and matrices. It is an open source library. NumPy is one of the fundamental packages for Python providing support for large multidimensional arrays and matrices. NumPy relies on BLAS and LAPACK for efficient linear algebra computations. NumPy can also be used as an efficient multi-dimensional container of generic data.\n",
    "                     NumPy is one of the most used libraries for tasks involving modern scientific computations and evolving yet powerful domains like Data Science and Machine Learning. It supports for powerful N-dimensional array objects and built-in tools for performing intensive mathematical as well as scientific calculations. It is used for delivering high performance, interoperability with various computing platforms and hardware, and ease of use."
   ]
  },
  {
   "cell_type": "markdown",
   "id": "2706a0f6-f570-4fec-93e6-af0e3d10f1df",
   "metadata": {},
   "source": [
    "#2.Array in numpy\n",
    "    ndarray:  ndarray is a short form for N-dimensional array which is a important component of NumPy.\n",
    "It’s allows us to store and manipulate large amounts of data efficiently. All elements in an ndarray must \n",
    "be of same type making it a homogeneous array. This structure supports  multiple dimensions which makes\n",
    "it ideal for handling complex datasets like those used in scientific computing or data analysis. \n",
    "With this we can perform fast and memory efficient operations on data."
   ]
  },
  {
   "cell_type": "code",
   "execution_count": 14,
   "id": "16b772ff-c271-4c5c-86ed-d5ffebb4b516",
   "metadata": {},
   "outputs": [],
   "source": [
    "#creating  arrays using"
   ]
  },
  {
   "cell_type": "code",
   "execution_count": 39,
   "id": "461b1239-1098-4a66-944c-84e371812ce7",
   "metadata": {},
   "outputs": [
    {
     "name": "stdout",
     "output_type": "stream",
     "text": [
      "[1 2 3 4]\n",
      "[[1 2 3]\n",
      " [4 5 6]]\n",
      "[[[1 2]\n",
      "  [3 4]]\n",
      "\n",
      " [[5 6]\n",
      "  [7 8]]]\n"
     ]
    }
   ],
   "source": [
    "\n",
    "import numpy as np\n",
    "\n",
    "a=np.array([1,2,3,4])\n",
    "print(a)\n",
    "#2d and 3d array\n",
    "b=np.array([[1,2,3],[4,5,6]])\n",
    "print(b)\n",
    "#3d array\n",
    "c=np.array([[[1,2],[3,4]],[[5,6],[7,8]]])\n",
    "print(c)\n"
   ]
  },
  {
   "cell_type": "code",
   "execution_count": 10,
   "id": "f6772243-435e-46c1-91d2-c11e1809f5d9",
   "metadata": {},
   "outputs": [
    {
     "data": {
      "text/plain": [
       "array([[0., 0., 0., 0.],\n",
       "       [0., 0., 0., 0.],\n",
       "       [0., 0., 0., 0.]])"
      ]
     },
     "execution_count": 10,
     "metadata": {},
     "output_type": "execute_result"
    }
   ],
   "source": [
    "#np.zeros()\n",
    "np.zeros((3,4))"
   ]
  },
  {
   "cell_type": "code",
   "execution_count": 11,
   "id": "0d5cc391-e393-42a8-8234-4df789711f0c",
   "metadata": {},
   "outputs": [
    {
     "data": {
      "text/plain": [
       "array([[1., 1., 1., 1.],\n",
       "       [1., 1., 1., 1.],\n",
       "       [1., 1., 1., 1.]])"
      ]
     },
     "execution_count": 11,
     "metadata": {},
     "output_type": "execute_result"
    }
   ],
   "source": [
    "#np.ones()\n",
    "np.ones((3,4))"
   ]
  },
  {
   "cell_type": "code",
   "execution_count": 12,
   "id": "4341a3f1-1643-495b-8fd3-cab6bb23a40b",
   "metadata": {},
   "outputs": [
    {
     "data": {
      "text/plain": [
       "array([ 1,  2,  3,  4,  5,  6,  7,  8,  9, 10])"
      ]
     },
     "execution_count": 12,
     "metadata": {},
     "output_type": "execute_result"
    }
   ],
   "source": [
    "#np.arange()\n",
    "np.arange(1,11)"
   ]
  },
  {
   "cell_type": "code",
   "execution_count": 13,
   "id": "7f05c493-263f-441f-b4f3-45d5ec4eed3f",
   "metadata": {},
   "outputs": [
    {
     "data": {
      "text/plain": [
       "array([-10.        ,  -7.77777778,  -5.55555556,  -3.33333333,\n",
       "        -1.11111111,   1.11111111,   3.33333333,   5.55555556,\n",
       "         7.77777778,  10.        ])"
      ]
     },
     "execution_count": 13,
     "metadata": {},
     "output_type": "execute_result"
    }
   ],
   "source": [
    "#np.linspace\n",
    "np.linspace(-10,10,10)\n"
   ]
  },
  {
   "cell_type": "code",
   "execution_count": 17,
   "id": "b6a5942a-8057-4cec-8510-22d8f08fc304",
   "metadata": {},
   "outputs": [],
   "source": [
    "#Array indexing and slicing.\n"
   ]
  },
  {
   "cell_type": "code",
   "execution_count": 16,
   "id": "10bcdd04-d885-4234-81dd-70a1eeb5f332",
   "metadata": {},
   "outputs": [
    {
     "data": {
      "text/plain": [
       "array([0, 1, 2, 3, 4, 5, 6, 7, 8, 9])"
      ]
     },
     "execution_count": 16,
     "metadata": {},
     "output_type": "execute_result"
    }
   ],
   "source": [
    "\n",
    "a1=np.arange(10)\n",
    "a2=np.arange(12).reshape(3,4)\n",
    "a3=np.arange(8).reshape(2,2,2)\n",
    "a1"
   ]
  },
  {
   "cell_type": "code",
   "execution_count": 18,
   "id": "84f106e7-85c6-4332-b886-7bbebca20ee8",
   "metadata": {},
   "outputs": [
    {
     "data": {
      "text/plain": [
       "array([0, 1, 2, 3])"
      ]
     },
     "execution_count": 18,
     "metadata": {},
     "output_type": "execute_result"
    }
   ],
   "source": [
    "a2[0,:]"
   ]
  },
  {
   "cell_type": "code",
   "execution_count": 19,
   "id": "212679af-4189-42ab-a4c9-665295f69e76",
   "metadata": {},
   "outputs": [
    {
     "data": {
      "text/plain": [
       "array([[ 1,  3],\n",
       "       [ 9, 11]])"
      ]
     },
     "execution_count": 19,
     "metadata": {},
     "output_type": "execute_result"
    }
   ],
   "source": [
    "a2[::2,1::2]\n"
   ]
  },
  {
   "cell_type": "code",
   "execution_count": 20,
   "id": "7af65502-3227-4370-bca4-cf575d0fa822",
   "metadata": {},
   "outputs": [
    {
     "data": {
      "text/plain": [
       "array([[[0, 1],\n",
       "        [2, 3]]])"
      ]
     },
     "execution_count": 20,
     "metadata": {},
     "output_type": "execute_result"
    }
   ],
   "source": [
    "a3[::2]"
   ]
  },
  {
   "cell_type": "code",
   "execution_count": 22,
   "id": "cec14c58-e5f4-4a88-a8b9-1b6c29b029f6",
   "metadata": {},
   "outputs": [
    {
     "data": {
      "text/plain": [
       "array([[[0, 1],\n",
       "        [2, 3]]])"
      ]
     },
     "execution_count": 22,
     "metadata": {},
     "output_type": "execute_result"
    }
   ],
   "source": [
    "a3[::2]"
   ]
  },
  {
   "cell_type": "code",
   "execution_count": 23,
   "id": "69def90b-f47e-4536-929f-0474d3be17d0",
   "metadata": {},
   "outputs": [],
   "source": [
    "#3. Array Operations"
   ]
  },
  {
   "cell_type": "code",
   "execution_count": 26,
   "id": "1d5aa009-05a6-4efe-b906-f5bfc718e922",
   "metadata": {},
   "outputs": [
    {
     "data": {
      "text/plain": [
       "array([[12, 13, 14, 15],\n",
       "       [16, 17, 18, 19],\n",
       "       [20, 21, 22, 23]])"
      ]
     },
     "execution_count": 26,
     "metadata": {},
     "output_type": "execute_result"
    }
   ],
   "source": [
    "# Arithmetic operations\n",
    "\n",
    "a1=np.arange(12).reshape(3,4)\n",
    "a2=np.arange(12,24).reshape(3,4)\n",
    "a2"
   ]
  },
  {
   "cell_type": "code",
   "execution_count": 27,
   "id": "8761e1c9-bfb6-4c62-b1e9-01544072cfe3",
   "metadata": {},
   "outputs": [
    {
     "data": {
      "text/plain": [
       "array([[12, 14, 16, 18],\n",
       "       [20, 22, 24, 26],\n",
       "       [28, 30, 32, 34]])"
      ]
     },
     "execution_count": 27,
     "metadata": {},
     "output_type": "execute_result"
    }
   ],
   "source": [
    "#addition\n",
    "a1+a2"
   ]
  },
  {
   "cell_type": "code",
   "execution_count": 28,
   "id": "39dcc00b-440a-46a3-8fca-1fc84dd3e06a",
   "metadata": {},
   "outputs": [
    {
     "data": {
      "text/plain": [
       "array([[12, 12, 12, 12],\n",
       "       [12, 12, 12, 12],\n",
       "       [12, 12, 12, 12]])"
      ]
     },
     "execution_count": 28,
     "metadata": {},
     "output_type": "execute_result"
    }
   ],
   "source": [
    "#subtration\n",
    "a2-a1"
   ]
  },
  {
   "cell_type": "code",
   "execution_count": 30,
   "id": "46d6f657-41e3-461c-8596-c4b0d5e220a1",
   "metadata": {},
   "outputs": [
    {
     "data": {
      "text/plain": [
       "array([[  0,  13,  28,  45],\n",
       "       [ 64,  85, 108, 133],\n",
       "       [160, 189, 220, 253]])"
      ]
     },
     "execution_count": 30,
     "metadata": {},
     "output_type": "execute_result"
    }
   ],
   "source": [
    "#multiplication\n",
    "a1*a2"
   ]
  },
  {
   "cell_type": "code",
   "execution_count": 31,
   "id": "055a29fb-f1da-46b9-8094-2d6778978ba9",
   "metadata": {},
   "outputs": [
    {
     "data": {
      "text/plain": [
       "array([[0.        , 0.07692308, 0.14285714, 0.2       ],\n",
       "       [0.25      , 0.29411765, 0.33333333, 0.36842105],\n",
       "       [0.4       , 0.42857143, 0.45454545, 0.47826087]])"
      ]
     },
     "execution_count": 31,
     "metadata": {},
     "output_type": "execute_result"
    }
   ],
   "source": [
    "#division\n",
    "a1/a2"
   ]
  },
  {
   "cell_type": "code",
   "execution_count": 32,
   "id": "192c4f4b-a6f2-4e2c-8db0-75ccbb7d1d62",
   "metadata": {},
   "outputs": [],
   "source": [
    "#Element-wise operations and functions"
   ]
  },
  {
   "cell_type": "code",
   "execution_count": 33,
   "id": "e929f081-c0c3-461d-9a03-6f2346a07dbe",
   "metadata": {},
   "outputs": [
    {
     "data": {
      "text/plain": [
       "array([[0.        , 1.        , 1.41421356, 1.73205081],\n",
       "       [2.        , 2.23606798, 2.44948974, 2.64575131],\n",
       "       [2.82842712, 3.        , 3.16227766, 3.31662479]])"
      ]
     },
     "execution_count": 33,
     "metadata": {},
     "output_type": "execute_result"
    }
   ],
   "source": [
    "#np.sqrt\n",
    "np.sqrt(a1)"
   ]
  },
  {
   "cell_type": "code",
   "execution_count": 34,
   "id": "c65b8b20-a6f1-4d15-b568-f0cf8ab0306a",
   "metadata": {},
   "outputs": [
    {
     "data": {
      "text/plain": [
       "array([[1.00000000e+00, 2.71828183e+00, 7.38905610e+00, 2.00855369e+01],\n",
       "       [5.45981500e+01, 1.48413159e+02, 4.03428793e+02, 1.09663316e+03],\n",
       "       [2.98095799e+03, 8.10308393e+03, 2.20264658e+04, 5.98741417e+04]])"
      ]
     },
     "execution_count": 34,
     "metadata": {},
     "output_type": "execute_result"
    }
   ],
   "source": [
    "#np.exp()\n",
    "np.exp(a1)"
   ]
  },
  {
   "cell_type": "code",
   "execution_count": 36,
   "id": "012723c2-96fb-4950-88dc-80ff5896f17c",
   "metadata": {},
   "outputs": [
    {
     "data": {
      "text/plain": [
       "array([[ 0.        ,  0.84147098,  0.90929743,  0.14112001],\n",
       "       [-0.7568025 , -0.95892427, -0.2794155 ,  0.6569866 ],\n",
       "       [ 0.98935825,  0.41211849, -0.54402111, -0.99999021]])"
      ]
     },
     "execution_count": 36,
     "metadata": {},
     "output_type": "execute_result"
    }
   ],
   "source": [
    "#np.sin()\n",
    "np.sin(a1)"
   ]
  },
  {
   "cell_type": "code",
   "execution_count": 38,
   "id": "0192ea08-4464-4f40-96d7-443bc8df7348",
   "metadata": {},
   "outputs": [
    {
     "name": "stdout",
     "output_type": "stream",
     "text": [
      "(3, 2)\n",
      "2\n",
      "[[1 2 3]\n",
      " [4 5 6]]\n",
      "[1 2 3 4 5 6]\n",
      "[[1 3 5]\n",
      " [2 4 6]]\n",
      "[[ 1  2  7  8]\n",
      " [ 3  4  9 10]\n",
      " [ 5  6 11 12]]\n"
     ]
    }
   ],
   "source": [
    "#4.Array Shapes and Reshaping\n",
    "a = np.array([[1, 2], [3, 4], [5, 6]])\n",
    "\n",
    "print(a.shape)         # (3, 2)\n",
    "print(a.ndim)          # 2\n",
    "\n",
    "print(a.reshape(2, 3))\n",
    "print(a.flatten())\n",
    "print(a.T)             # Transpose\n",
    "\n",
    "# Concatenation and splitting\n",
    "b = np.array([[7, 8], [9, 10], [11, 12]])\n",
    "print(np.concatenate((a,b),axis=1))"
   ]
  },
  {
   "cell_type": "code",
   "execution_count": 44,
   "id": "2615c183-1537-4493-a63b-814c90c6bef9",
   "metadata": {},
   "outputs": [
    {
     "name": "stdout",
     "output_type": "stream",
     "text": [
      "[1 2 3]\n",
      "[1 4 7]\n"
     ]
    }
   ],
   "source": [
    "#Array Manipulation\n",
    "#Indexing and slicing:understanding multdimensional arrays\n",
    "matrix = np.array([[1, 2, 3],\n",
    "                   [4, 5, 6],\n",
    "                   [7, 8, 9]])\n",
    "# Slicing rows\n",
    "row_1 = matrix[0, :]  \n",
    "print(row_1)  \n",
    "\n",
    "# Slicing columns\n",
    "col_2 = matrix[:,0]\n",
    "print(col_2)"
   ]
  },
  {
   "cell_type": "code",
   "execution_count": 45,
   "id": "5762b918-9b9d-499a-9151-d76a81a8d19a",
   "metadata": {},
   "outputs": [
    {
     "name": "stdout",
     "output_type": "stream",
     "text": [
      "[30 40]\n"
     ]
    }
   ],
   "source": [
    "#Masking\n",
    "a = np.array([10, 20, 30, 40])\n",
    "mask = a > 20\n",
    "print(a[mask]) "
   ]
  },
  {
   "cell_type": "code",
   "execution_count": 46,
   "id": "063beedc-3581-4641-83ca-d5af5989206d",
   "metadata": {},
   "outputs": [
    {
     "name": "stdout",
     "output_type": "stream",
     "text": [
      "[10 30]\n"
     ]
    }
   ],
   "source": [
    "#fancy indexing\n",
    "idx = [0, 2]\n",
    "print(a[idx])  "
   ]
  },
  {
   "cell_type": "code",
   "execution_count": 47,
   "id": "4c999160-6f38-49a4-8624-fc7ef730bcd2",
   "metadata": {},
   "outputs": [],
   "source": [
    "#6.Mathematical Functions\n"
   ]
  },
  {
   "cell_type": "code",
   "execution_count": 49,
   "id": "403a1863-3ee3-4c6e-859c-e4d619d9f220",
   "metadata": {},
   "outputs": [
    {
     "name": "stdout",
     "output_type": "stream",
     "text": [
      "[5 7 9]\n",
      "[-3 -3 -3]\n",
      "[ 4 10 18]\n"
     ]
    }
   ],
   "source": [
    "#Universal Function\n",
    "x = np.array([1, 2, 3])\n",
    "y = np.array([4, 5, 6])\n",
    "\n",
    "print(np.add(x, y))\n",
    "print(np.subtract(x,y))\n",
    "print(np.multiply(x,y))\n"
   ]
  },
  {
   "cell_type": "code",
   "execution_count": 50,
   "id": "312a0191-0dd9-46a8-92f5-6282ce96b8bb",
   "metadata": {},
   "outputs": [
    {
     "name": "stdout",
     "output_type": "stream",
     "text": [
      "44.625\n",
      "42.5\n",
      "34.61552216853012\n",
      "1198.234375\n",
      "4\n",
      "95\n"
     ]
    }
   ],
   "source": [
    "#Statistical Functions\n",
    "p=np.array([4,7,9,34,51,67,90,95])\n",
    "print(np.mean(p))\n",
    "print(np.median(p))\n",
    "print(np.std(p))\n",
    "print(np.var(p))\n",
    "print(np.min(p))\n",
    "print(np.max(p))\n",
    "\n"
   ]
  },
  {
   "cell_type": "code",
   "execution_count": 53,
   "id": "41bf3402-ba6e-4b47-ac09-e7e3074cac04",
   "metadata": {},
   "outputs": [
    {
     "name": "stdout",
     "output_type": "stream",
     "text": [
      "[[ 4  4]\n",
      " [10  8]]\n",
      "[[-2.   1. ]\n",
      " [ 1.5 -0.5]]\n",
      "[[ 4  4]\n",
      " [10  8]]\n",
      "EigResult(eigenvalues=array([-0.37228132,  5.37228132]), eigenvectors=array([[-0.82456484, -0.41597356],\n",
      "       [ 0.56576746, -0.90937671]]))\n"
     ]
    }
   ],
   "source": [
    "#Linear algebra Function\n",
    "A = np.array([[1, 2], [3, 4]])\n",
    "B = np.array([[2, 0], [1, 2]])\n",
    "\n",
    "print(np.dot(A, B))       \n",
    "print(np.linalg.inv(A))\n",
    "print(np.matmul(A,B))\n",
    "print(np.linalg.eig(A))"
   ]
  },
  {
   "cell_type": "code",
   "execution_count": 54,
   "id": "d4d2baf8-37d4-4889-8be1-c04a4754cdc2",
   "metadata": {},
   "outputs": [
    {
     "name": "stdout",
     "output_type": "stream",
     "text": [
      "[[0.37454012 0.95071431]\n",
      " [0.73199394 0.59865848]]\n",
      "[7 3 7 8 5]\n",
      "[1 2 3 5 4]\n",
      "[1 3 5 2 4]\n"
     ]
    }
   ],
   "source": [
    "#7. Random Number Generation\n",
    "\n",
    "np.random.seed(42)\n",
    "\n",
    "print(np.random.rand(2, 2))        \n",
    "print(np.random.randint(1, 10, 5)) \n",
    "\n",
    "arr = np.array([1, 2, 3, 4, 5])\n",
    "np.random.shuffle(arr)\n",
    "print(arr)\n",
    "\n",
    "print(np.random.permutation(arr))\n"
   ]
  },
  {
   "cell_type": "markdown",
   "id": "f361b901-d8ae-49cf-8cbf-14e43e451eb5",
   "metadata": {},
   "source": [
    "8. Broadcasting:    \n",
    "                   Broadcasting in NumPy allows us to perform arithmetic operations on arrays of different shapes without reshaping them. It automatically adjusts the smaller array to match the larger array's shape by replicating its values along the necessary dimensions. \n",
    "\n",
    "\n",
    "\n"
   ]
  },
  {
   "cell_type": "code",
   "execution_count": 55,
   "id": "e380978d-4f34-44f1-a7ca-cdf47b6ce668",
   "metadata": {},
   "outputs": [
    {
     "name": "stdout",
     "output_type": "stream",
     "text": [
      "[[11 12 13]\n",
      " [14 15 16]]\n"
     ]
    }
   ],
   "source": [
    "array_2d = np.array([[1, 2, 3], [4, 5, 6]])  \n",
    "scalar = 10  \n",
    "\n",
    "result = array_2d + scalar\n",
    "print(result)"
   ]
  },
  {
   "cell_type": "markdown",
   "id": "939081ec-b603-4098-9cf5-f805f9cd1ae3",
   "metadata": {},
   "source": [
    "#Rules of broadcasting:\n",
    "1. Dimension Alignment:\n",
    "NumPy starts by comparing the shapes of arrays from the trailing (rightmost) dimension and works its way left. \n",
    "2. Compatibility Check:\n",
    "Two dimensions are compatible if they are equal in size or if one of them has size 1. \n",
    "3. Stretching/Replication:\n",
    "If a dimension has size 1, the array is stretched along that axis to match the other array's size. \n",
    "4. Rank Adjustment:\n",
    "If arrays have different numbers of dimensions (ranks), NumPy adds \"wrapper dimensions\" with size 1 to the smaller array until the ranks match. \n",
    "5. Error Handling:\n",
    "If dimensions cannot be aligned using these rules, a ValueError is raised. "
   ]
  }
 ],
 "metadata": {
  "kernelspec": {
   "display_name": "Python 3 (ipykernel)",
   "language": "python",
   "name": "python3"
  },
  "language_info": {
   "codemirror_mode": {
    "name": "ipython",
    "version": 3
   },
   "file_extension": ".py",
   "mimetype": "text/x-python",
   "name": "python",
   "nbconvert_exporter": "python",
   "pygments_lexer": "ipython3",
   "version": "3.12.7"
  }
 },
 "nbformat": 4,
 "nbformat_minor": 5
}
