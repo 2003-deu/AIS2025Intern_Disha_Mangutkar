{
 "cells": [
  {
   "cell_type": "code",
   "execution_count": 1,
   "id": "49b1cbd0-2fc0-48d5-8c14-ccc7e0776219",
   "metadata": {},
   "outputs": [
    {
     "name": "stdout",
     "output_type": "stream",
     "text": [
      "Integer: 19\n",
      "Float: 8.1\n",
      "Complex Number: (2+3j)\n",
      "Addition: 19\n",
      "Subtraction: 11\n",
      "Multiplication: 60\n",
      "Division: 3.75\n"
     ]
    }
   ],
   "source": [
    "# Integer\n",
    "a = 19\n",
    "print(\"Integer:\", a)\n",
    "\n",
    "# Float\n",
    "b = 8.100\n",
    "print(\"Float:\", b)\n",
    "\n",
    "# Complex\n",
    "c = 2 + 3j\n",
    "print(\"Complex Number:\", c)\n",
    "\n",
    "# Basic Arithmetic\n",
    "x = 15\n",
    "y = 4\n",
    "print(\"Addition:\", x + y)\n",
    "print(\"Subtraction:\", x - y)\n",
    "print(\"Multiplication:\", x * y)\n",
    "print(\"Division:\", x / y)\n"
   ]
  },
  {
   "cell_type": "code",
   "execution_count": 2,
   "id": "7d3e0cc8-92f6-46d1-8a7d-485538abf0a0",
   "metadata": {},
   "outputs": [
    {
     "name": "stdout",
     "output_type": "stream",
     "text": [
      "27 23 50 12.5\n",
      "False True False True\n",
      "AND: False\n",
      "OR: True\n",
      "7\n",
      "21\n"
     ]
    }
   ],
   "source": [
    "# Arithmetic\n",
    "a, b = 25, 2\n",
    "print(a + b, a - b, a * b, a / b)\n",
    "\n",
    "# Comparison\n",
    "print(a == b, a != b, a < b, a > b)\n",
    "\n",
    "# Logical\n",
    "x, y = True, False\n",
    "print(\"AND:\", x and y)\n",
    "print(\"OR:\", x or y)\n",
    "\n",
    "# Assignment\n",
    "a = 5\n",
    "a+= 2\n",
    "print( a)\n",
    "a *= 3\n",
    "print(a)"
   ]
  },
  {
   "cell_type": "code",
   "execution_count": 33,
   "id": "2fd58a63-6cd6-4b25-b1ab-729328ccaf9e",
   "metadata": {},
   "outputs": [
    {
     "name": "stdout",
     "output_type": "stream",
     "text": [
      "Index 0: 10\n",
      "Slice 1:4 [20, 30, 40]\n",
      "Modified list: [10, 20, 35, 40, 50]\n",
      "After append & insert: [10, 20, 25, 35, 40, 50]\n",
      "After remove & pop: [10, 20, 35, 40]\n",
      "After clear: []\n",
      "Sorted: [10, 10, 20, 30, 40]\n",
      "Reversed: [40, 30, 20, 10, 10]\n",
      "Extended: [40, 30, 20, 10, 10, 70, 80]\n",
      "Count of 10: 2\n",
      "Index of 40: 0\n"
     ]
    }
   ],
   "source": [
    "# Creating and accessing\n",
    "a = [10, 20, 30, 40, 50]\n",
    "print(\"Index 0:\", a[0])\n",
    "print(\"Slice 1:4\", a[1:4])\n",
    "\n",
    "# Modify\n",
    "a[2] = 35\n",
    "print(\"Modified list:\", a)\n",
    "\n",
    "# Add.append(60)\n",
    "a.insert(2, 25)\n",
    "print(\"After append & insert:\", a)\n",
    "\n",
    "# Remove\n",
    "a.remove(25)\n",
    "a.pop()\n",
    "print(\"After remove & pop:\", a)\n",
    "a.clear()\n",
    "print(\"After clear:\", a)\n",
    "# Other methods\n",
    "a = [30, 10, 40, 20, 10]\n",
    "a.sort()\n",
    "print(\"Sorted:\", a)\n",
    "a.reverse()\n",
    "print(\"Reversed:\", a)\n",
    "a.extend([70, 80])\n",
    "print(\"Extended:\", a)\n",
    "print(\"Count of 10:\", a.count(10))\n",
    "print(\"Index of 40:\", a.index(40))\n",
    "copy_a = a.copy()\n"
   ]
  },
  {
   "cell_type": "code",
   "execution_count": 34,
   "id": "e50c6db6-5b98-4803-b268-a489028273a9",
   "metadata": {},
   "outputs": [
    {
     "name": "stdout",
     "output_type": "stream",
     "text": [
      "11 20\n",
      "Slice: (20, 30, 40)\n",
      "Combined: (11, 25, 35, 45, 22, 15, 20)\n",
      "Repeated: (11, 25, 35, 45, 22, 11, 25, 35, 45, 22)\n",
      "Count 20: 1\n",
      "Index of 30: 2\n"
     ]
    }
   ],
   "source": [
    "# Create & access\n",
    "tuple1 = (11, 25, 35, 45, 22)\n",
    "print(tuple1[0], tup[-1])\n",
    "print(\"Slice:\", tup[1:4])\n",
    "\n",
    "# Concatenation\n",
    "tuple2 = (15, 20)\n",
    "combined = tuple1 + tuple2\n",
    "print(\"Combined:\", combined)\n",
    "\n",
    "# Repetition\n",
    "print(\"Repeated:\", tuple1 * 2)\n",
    "\n",
    "# Count & Index\n",
    "print(\"Count 20:\", tuple1.count(25))\n",
    "print(\"Index of 30:\", tuple1.index(35))"
   ]
  },
  {
   "cell_type": "code",
   "execution_count": 4,
   "id": "7ccd81b8-187d-4b86-8430-44b7532bd4c7",
   "metadata": {},
   "outputs": [
    {
     "name": "stdout",
     "output_type": "stream",
     "text": [
      "add: {1, 2, 3, 4}\n",
      "remove: {1, 3, 4}\n",
      "Union: {1, 2, 3, 4, 5}\n",
      "Intersection: {3}\n",
      "Difference: {1, 2}\n"
     ]
    }
   ],
   "source": [
    "# Create and add\n",
    "s = {1, 2, 3}\n",
    "s.add(4)\n",
    "print(\"add:\", s)\n",
    "\n",
    "# Remove\n",
    "s.remove(2)\n",
    "print(\"remove:\", s)\n",
    "\n",
    "# Set operations\n",
    "a = {1, 2, 3}\n",
    "b = {3, 4, 5}\n",
    "print(\"Union:\", a.union(b))\n",
    "print(\"Intersection:\", a.intersection(b))\n",
    "print(\"Difference:\", a.difference(b))"
   ]
  },
  {
   "cell_type": "code",
   "execution_count": 36,
   "id": "cd69b10d-8825-4141-a791-60233792c512",
   "metadata": {},
   "outputs": [
    {
     "name": "stdout",
     "output_type": "stream",
     "text": [
      "Hello\n",
      "123\n",
      "8\n",
      "None\n"
     ]
    }
   ],
   "source": [
    "# def greet():\n",
    "# print(\"Hello\")  ❌ Wrong indentation\n",
    "# Correct:\n",
    "def greet():\n",
    "    print(\"Hello\")\n",
    "\n",
    "# NameError\n",
    "# print(xyz)  # ❌ xyz is not defined\n",
    "xyz = \"Hello\"\n",
    "print(xyz)\n",
    "\n",
    "# ValueError\n",
    "# int(\"abc\")  # ❌ invalid literal\n",
    "print(int(\"123\"))  # ✅\n",
    "\n",
    "# TypeError\n",
    "# '5' + 3  # ❌ cannot add str and int\n",
    "print(int('5') + 3)\n",
    "# IndexError\n",
    "v= [1, 2, 3]\n",
    "#print(v[5])  # ❌ Index out of range\n",
    "\n",
    "# KeyError\n",
    "d = {\"a\": 1}\n",
    "# print(d[\"b\"])  # ❌ Key 'b' not found\n",
    "print(d.get(\"b\"))  # ✅ Returns None if key not found"
   ]
  },
  {
   "cell_type": "code",
   "execution_count": 3,
   "id": "9a6510bb-47a1-43c1-8655-acc3fe8b18df",
   "metadata": {},
   "outputs": [
    {
     "name": "stdout",
     "output_type": "stream",
     "text": [
      "sanika\n",
      "{'name': 'sanika', 'age': 26, 'city': 'karad'}\n",
      "{'name': 'sanika', 'age': 26}\n",
      "dict_keys(['name', 'age'])\n",
      "dict_values(['sanika', 26])\n",
      "dict_items([('name', 'sanika'), ('age', 26)])\n"
     ]
    }
   ],
   "source": [
    "# Create and access\n",
    "d = {\"name\": \"sanika\", \"age\": 25}\n",
    "print( d.get(\"name\"))\n",
    "\n",
    "# Add & update\n",
    "d[\"city\"] = \"karad\"\n",
    "d.update({\"age\": 26})\n",
    "print( d)\n",
    "\n",
    "# Remove\n",
    "d.pop(\"city\")\n",
    "print( d)\n",
    "\n",
    "# Keys, values, items\n",
    "print(d.keys())\n",
    "print(d.values())\n",
    "print(d.items())"
   ]
  },
  {
   "cell_type": "code",
   "execution_count": null,
   "id": "7349ef0b-9008-43ed-a223-58da9efa411f",
   "metadata": {},
   "outputs": [],
   "source": []
  }
 ],
 "metadata": {
  "kernelspec": {
   "display_name": "Python 3 (ipykernel)",
   "language": "python",
   "name": "python3"
  },
  "language_info": {
   "codemirror_mode": {
    "name": "ipython",
    "version": 3
   },
   "file_extension": ".py",
   "mimetype": "text/x-python",
   "name": "python",
   "nbconvert_exporter": "python",
   "pygments_lexer": "ipython3",
   "version": "3.12.7"
  }
 },
 "nbformat": 4,
 "nbformat_minor": 5
}
