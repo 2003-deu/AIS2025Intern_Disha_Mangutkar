{
 "cells": [
  {
   "cell_type": "markdown",
   "id": "46257c1a-1683-4ec9-9821-afd8e5ad1bca",
   "metadata": {},
   "source": [
    "#      Task 5"
   ]
  },
  {
   "cell_type": "markdown",
   "id": "f92ebdec-eaf8-4058-bf02-7bebdd1e874c",
   "metadata": {},
   "source": [
    " #   Introduction:\n",
    "1. PANDAS referred as Python Data Analysis Library.\n",
    "2. PANDAS is another open source Python library for availing high-performance data\n",
    "   structures and analysis tools.                                                    \n",
    "3. Pandas is a machine learning library in Python that provides data structures of high-level\n",
    "   and a wide variety of tools for analysis\n",
    "4. It is an open source library.\n",
    "5. Ability to translate complex operations with data using one or two commands.\n",
    "6. Pandas have so many inbuilt methods for grouping, combining data, and filtering, as well\n",
    "   as time-series functionality.\n",
    "7. Ability to group and sort data, select best suited output for the apply method, and\n",
    "   provides support for performing custom types operations.\n",
    "8. Pandas enable the provision of easy data structure and quicker data analysis for Python\n",
    "9. It provides fast, expressive, and flexible data structures to easily work with structured\n",
    "   (tabular, multidimensional, potentially heterogeneous) and time-series data.\n",
    "10. It is used for solving modern Data Science and Machine Learning problems.\n",
    "11. Reading and writing data into multiple formats like csv, excel, sqletc\n",
    "12. Pandas is the “SQL of Python.”\n",
    "13. It is used to handle two-dimensional data tables in Python.\n",
    "14. Load data into data frames, select columns, filter for specific values, group by values, run\n",
    "    functions (sum, mean, median, min, max, etc.), merge dataframes and so on.\n",
    "15. It contains DataFrame as its main data structure.\n",
    "16. With DataFrame you can store and manage data from tables by performing manipulation\n",
    "    over rows and columns.\n",
    "17. Also create multi-dimensional data-tables.\n"
   ]
  },
  {
   "cell_type": "markdown",
   "id": "4e797a18-d466-4179-a6eb-2481fab76183",
   "metadata": {},
   "source": [
    "#  Key Data Structure\n",
    "Series:\n",
    "     A one-dimensional labeled array capable of holding any data type\n",
    "DataFrame:\n",
    "      A two-dimensional labeled data structure"
   ]
  },
  {
   "cell_type": "code",
   "execution_count": 12,
   "id": "29231260-23f1-47c3-ac9c-3014d056a50f",
   "metadata": {},
   "outputs": [
    {
     "data": {
      "text/plain": [
       "0        India\n",
       "1     Pakistan\n",
       "2        Nepal\n",
       "3          USA\n",
       "4    Shrilanka\n",
       "dtype: object"
      ]
     },
     "execution_count": 12,
     "metadata": {},
     "output_type": "execute_result"
    }
   ],
   "source": [
    "import pandas as pd\n",
    "country=[\"India\",\"Pakistan\",\"Nepal\",\"USA\",\"Shrilanka\"]\n",
    "pd.Series(country)"
   ]
  },
  {
   "cell_type": "code",
   "execution_count": 15,
   "id": "5343c86a-d58e-4fdd-9ecb-6d9c5b57b992",
   "metadata": {},
   "outputs": [
    {
     "name": "stdout",
     "output_type": "stream",
     "text": [
      "    Name  Age\n",
      "0  Alice   25\n",
      "1    Bob   30\n"
     ]
    }
   ],
   "source": [
    "df = pd.DataFrame({'Name':['Alice','Bob'], 'Age':[25,30]})\n",
    "print(df)"
   ]
  },
  {
   "cell_type": "markdown",
   "id": "c68e158b-2001-4932-89a0-8ee5386d220f",
   "metadata": {},
   "source": [
    "#     Data Operations"
   ]
  },
  {
   "cell_type": "code",
   "execution_count": 16,
   "id": "cbd90087-3b79-4378-a7b2-f2234cd3ccea",
   "metadata": {},
   "outputs": [
    {
     "data": {
      "text/plain": [
       "Name    Alice\n",
       "Age        25\n",
       "Name: 0, dtype: object"
      ]
     },
     "execution_count": 16,
     "metadata": {},
     "output_type": "execute_result"
    }
   ],
   "source": [
    "\n",
    "df['Name']           # Access column by name\n",
    "df.iloc[0]           # Access by row position\n",
    "df.loc[0]            # Access by label/index"
   ]
  },
  {
   "cell_type": "markdown",
   "id": "20618a6e-9394-4200-990a-6b119c775f0b",
   "metadata": {},
   "source": [
    "# Data Cleaning\n",
    "1.  df.isnull()          # Detect missing values\n",
    "2.  df.dropna()          # Remove missing values\n",
    "3.  df.fillna(value)     # Replace missing values"
   ]
  },
  {
   "cell_type": "code",
   "execution_count": 9,
   "id": "db7ca444-5183-4ed3-9e9f-3feedb2bd9fb",
   "metadata": {},
   "outputs": [
    {
     "data": {
      "text/html": [
       "<div>\n",
       "<style scoped>\n",
       "    .dataframe tbody tr th:only-of-type {\n",
       "        vertical-align: middle;\n",
       "    }\n",
       "\n",
       "    .dataframe tbody tr th {\n",
       "        vertical-align: top;\n",
       "    }\n",
       "\n",
       "    .dataframe thead th {\n",
       "        text-align: right;\n",
       "    }\n",
       "</style>\n",
       "<table border=\"1\" class=\"dataframe\">\n",
       "  <thead>\n",
       "    <tr style=\"text-align: right;\">\n",
       "      <th></th>\n",
       "      <th>Name</th>\n",
       "      <th>Age</th>\n",
       "    </tr>\n",
       "  </thead>\n",
       "  <tbody>\n",
       "    <tr>\n",
       "      <th>0</th>\n",
       "      <td>Alice</td>\n",
       "      <td>25</td>\n",
       "    </tr>\n",
       "    <tr>\n",
       "      <th>1</th>\n",
       "      <td>Bob</td>\n",
       "      <td>30</td>\n",
       "    </tr>\n",
       "  </tbody>\n",
       "</table>\n",
       "</div>"
      ],
      "text/plain": [
       "    Name  Age\n",
       "0  Alice   25\n",
       "1    Bob   30"
      ]
     },
     "execution_count": 9,
     "metadata": {},
     "output_type": "execute_result"
    }
   ],
   "source": [
    "#Renaming:\n",
    "df.rename(columns={'OldName': 'NewName'})"
   ]
  },
  {
   "cell_type": "code",
   "execution_count": 10,
   "id": "cc921a73-58a4-4188-9e22-e8c3bfc9b341",
   "metadata": {},
   "outputs": [
    {
     "data": {
      "text/html": [
       "<div>\n",
       "<style scoped>\n",
       "    .dataframe tbody tr th:only-of-type {\n",
       "        vertical-align: middle;\n",
       "    }\n",
       "\n",
       "    .dataframe tbody tr th {\n",
       "        vertical-align: top;\n",
       "    }\n",
       "\n",
       "    .dataframe thead th {\n",
       "        text-align: right;\n",
       "    }\n",
       "</style>\n",
       "<table border=\"1\" class=\"dataframe\">\n",
       "  <thead>\n",
       "    <tr style=\"text-align: right;\">\n",
       "      <th></th>\n",
       "      <th>Name</th>\n",
       "      <th>Age</th>\n",
       "    </tr>\n",
       "  </thead>\n",
       "  <tbody>\n",
       "    <tr>\n",
       "      <th>1</th>\n",
       "      <td>Bob</td>\n",
       "      <td>30</td>\n",
       "    </tr>\n",
       "  </tbody>\n",
       "</table>\n",
       "</div>"
      ],
      "text/plain": [
       "  Name  Age\n",
       "1  Bob   30"
      ]
     },
     "execution_count": 10,
     "metadata": {},
     "output_type": "execute_result"
    }
   ],
   "source": [
    "#Filtering\n",
    "df[df['Age'] > 25]   # Filter rows where Age > 25"
   ]
  },
  {
   "cell_type": "markdown",
   "id": "81fac7be-c2fa-4a27-82c8-3f525e072a3b",
   "metadata": {},
   "source": [
    "# Aggregation and Grouping:\n"
   ]
  },
  {
   "cell_type": "code",
   "execution_count": 19,
   "id": "1e48ef0d-cac2-48a2-a73b-9b4e6c111b76",
   "metadata": {},
   "outputs": [
    {
     "name": "stdout",
     "output_type": "stream",
     "text": [
      "     Item       Flavor  Price\n",
      "0    Cake    Chocolate    250\n",
      "1    Cake      Vanilla    220\n",
      "2   Bread  Whole Wheat     80\n",
      "3  Pastry   Strawberry    120\n",
      "4    Cake    Chocolate    250\n",
      "Item\n",
      "Bread      80\n",
      "Cake      720\n",
      "Pastry    120\n",
      "Name: Price, dtype: int64\n"
     ]
    }
   ],
   "source": [
    "#Grouping\n",
    "data = {\n",
    "    'Item': ['Cake', 'Cake', 'Bread', 'Pastry', 'Cake'],\n",
    "    'Flavor': ['Chocolate', 'Vanilla', 'Whole Wheat', 'Strawberry', 'Chocolate'],\n",
    "    'Price': [250, 220, 80, 120, 250]\n",
    "}\n",
    "\n",
    "df = pd.DataFrame(data)\n",
    "print(df)\n",
    "print(df.groupby('Item')['Price'].sum())\n"
   ]
  },
  {
   "cell_type": "code",
   "execution_count": 25,
   "id": "7985bc5c-7915-41d0-b277-0f66635a7079",
   "metadata": {},
   "outputs": [
    {
     "name": "stdout",
     "output_type": "stream",
     "text": [
      "   Maths  English  Science  History\n",
      "0      9        4        8        9\n",
      "1      8       10        7        6\n",
      "2      7        6        8        5\n"
     ]
    },
    {
     "data": {
      "text/html": [
       "<div>\n",
       "<style scoped>\n",
       "    .dataframe tbody tr th:only-of-type {\n",
       "        vertical-align: middle;\n",
       "    }\n",
       "\n",
       "    .dataframe tbody tr th {\n",
       "        vertical-align: top;\n",
       "    }\n",
       "\n",
       "    .dataframe thead th {\n",
       "        text-align: right;\n",
       "    }\n",
       "</style>\n",
       "<table border=\"1\" class=\"dataframe\">\n",
       "  <thead>\n",
       "    <tr style=\"text-align: right;\">\n",
       "      <th></th>\n",
       "      <th>Item</th>\n",
       "      <th>Flavor</th>\n",
       "      <th>Price</th>\n",
       "    </tr>\n",
       "  </thead>\n",
       "  <tbody>\n",
       "    <tr>\n",
       "      <th>sum</th>\n",
       "      <td>CakeCakeBreadPastryCake</td>\n",
       "      <td>ChocolateVanillaWhole WheatStrawberryChocolate</td>\n",
       "      <td>920</td>\n",
       "    </tr>\n",
       "    <tr>\n",
       "      <th>min</th>\n",
       "      <td>Bread</td>\n",
       "      <td>Chocolate</td>\n",
       "      <td>80</td>\n",
       "    </tr>\n",
       "    <tr>\n",
       "      <th>max</th>\n",
       "      <td>Pastry</td>\n",
       "      <td>Whole Wheat</td>\n",
       "      <td>250</td>\n",
       "    </tr>\n",
       "  </tbody>\n",
       "</table>\n",
       "</div>"
      ],
      "text/plain": [
       "                        Item                                          Flavor  \\\n",
       "sum  CakeCakeBreadPastryCake  ChocolateVanillaWhole WheatStrawberryChocolate   \n",
       "min                    Bread                                       Chocolate   \n",
       "max                   Pastry                                     Whole Wheat   \n",
       "\n",
       "     Price  \n",
       "sum    920  \n",
       "min     80  \n",
       "max    250  "
      ]
     },
     "execution_count": 25,
     "metadata": {},
     "output_type": "execute_result"
    }
   ],
   "source": [
    "#Aggregation:\n",
    "f = pd.DataFrame([[9, 4, 8, 9],\n",
    "                   [8, 10, 7, 6],\n",
    "                   [7, 6, 8, 5]],\n",
    "                  columns=['Maths',  'English', \n",
    "                           'Science', 'History'])\n",
    "\n",
    "print(f)\n",
    "df.agg(['sum', 'min', 'max'])"
   ]
  },
  {
   "cell_type": "markdown",
   "id": "101da58e-3164-488e-b65e-5c2a6596cbd2",
   "metadata": {},
   "source": [
    "# Merging and Joining"
   ]
  },
  {
   "cell_type": "code",
   "execution_count": 29,
   "id": "d5671003-2bfd-4dad-8dfa-cac1ae678b6c",
   "metadata": {},
   "outputs": [
    {
     "name": "stdout",
     "output_type": "stream",
     "text": [
      "   ID     Name      City\n",
      "0   2      Bob  New York\n",
      "1   3  Charlie    London\n"
     ]
    }
   ],
   "source": [
    "\n",
    "    df1 = pd.DataFrame({'ID': [1, 2, 3], 'Name': ['Alice', 'Bob', 'Charlie']})\n",
    "    df2 = pd.DataFrame({'ID': [2, 3, 4], 'City': ['New York', 'London', 'Paris']})\n",
    "    merged_df = pd.merge(df1, df2, on='ID', how='inner')\n",
    "    # Result will contain rows where 'ID' matches in both DataFrames.\n",
    "print(merged_df)"
   ]
  },
  {
   "cell_type": "code",
   "execution_count": 31,
   "id": "c857bc26-9915-41e1-8b22-ecbc94002a32",
   "metadata": {},
   "outputs": [
    {
     "name": "stdout",
     "output_type": "stream",
     "text": [
      "   A  B   C   D\n",
      "0  1  3   9  11\n",
      "1  2  4  10  12\n",
      "   A  B\n",
      "0  1  3\n",
      "1  2  4\n",
      "0  5  7\n",
      "1  6  8\n"
     ]
    }
   ],
   "source": [
    "\n",
    "    df1 = pd.DataFrame({'A': [1, 2], 'B': [3, 4]})\n",
    "    df2 = pd.DataFrame({'A': [5, 6], 'B': [7, 8]})\n",
    "    concatenated_rows = pd.concat([df1, df2], axis=0) # Stacks rows\n",
    "    df3 = pd.DataFrame({'C': [9, 10], 'D': [11, 12]})\n",
    "    concatenated_cols = pd.concat([df1, df3], axis=1) # Stacks columns\n",
    "print(concatenated_cols)\n",
    "print(concatenated_rows)"
   ]
  },
  {
   "cell_type": "markdown",
   "id": "98d7e50d-8fea-447c-8e43-f3dd30c93eb2",
   "metadata": {},
   "source": [
    "# File I/O"
   ]
  },
  {
   "cell_type": "markdown",
   "id": "04cc5ab2-d7c7-4f4f-b902-4c246e8410e8",
   "metadata": {},
   "source": [
    "1. pd.read_csv()\n",
    "This function reads data from a CSV (Comma Separated Values) file and creates a DataFrame object.\n",
    "Python\n",
    "\n",
    "import pandas as pd\n",
    "df = pd.read_csv('path/to/your/file.csv')"
   ]
  },
  {
   "cell_type": "markdown",
   "id": "870d0968-380c-4e3d-8ff7-9861c0aa2cdf",
   "metadata": {},
   "source": [
    "2. df.to_csv()\n",
    "This method writes the contents of a DataFrame to a CSV file.\n",
    "Python\n",
    "\n",
    "import pandas as pd\n",
    "df = pd.DataFrame({'col1': [1, 2], 'col2': ['A', 'B']})\n",
    "df.to_csv('path/to/your/output.csv', index=False) # "
   ]
  },
  {
   "cell_type": "markdown",
   "id": "f62379e4-2f21-4b69-8912-d72d3f014b21",
   "metadata": {},
   "source": [
    "3. pd.read_excel()\n",
    "This function reads data from an Excel file (e.g., .xls, .xlsx) and creates a DataFrame object.\n",
    "Python\n",
    "\n",
    "import pandas as pd\n",
    "df = pd.read_excel('path/to/your/file.xlsx', sheet_na3. pd.read_excel()\n",
    "This function reads data from an Excel file (e.g., .xls, .xlsx) and creates a DataFrame object.\n",
    "\n",
    "\n",
    "\n",
    "\n",
    "\n",
    "\n",
    "\n",
    "\n",
    "\n",
    "\n",
    "\n",
    "\n",
    "\n",
    "\n",
    "\n",
    "\n",
    "\n",
    "\n",
    "\n",
    "\n",
    "\n",
    "\n",
    "\n",
    "\n",
    "\n",
    "                "
   ]
  },
  {
   "cell_type": "markdown",
   "id": "5c476a6b-b635-4498-85c9-80ca56f0aafc",
   "metadata": {},
   "source": [
    "4. df.to_excel()\n",
    "This method writes the contents of a DataFrame to an Excel file.\n",
    "import pandas as pd\n",
    "df = pd.DataFrame({'col1': [1, 2], 'col2': ['A', 'B']})\n",
    "df.to_excel('path/to/your/output.xlsx', index=False, sheet_name='Sheet1') # index=False and sheet_name are common parameters"
   ]
  },
  {
   "cell_type": "markdown",
   "id": "77436b3c-76c2-430e-be8a-86e2975b245b",
   "metadata": {},
   "source": [
    "#   Time Series:\n",
    "#Datetime:  \n",
    "  pd.to_datetime()\n",
    "  This function converts various input types (e.g., strings, integers, floats) into\n",
    "  datetime objects, which are essential for performing time-based operations in Pandas."
   ]
  },
  {
   "cell_type": "code",
   "execution_count": 2,
   "id": "76e54918-54bb-4d2f-a6b1-acfdbde1f925",
   "metadata": {},
   "outputs": [
    {
     "name": "stdout",
     "output_type": "stream",
     "text": [
      "2023-09-17 14:30:00\n"
     ]
    }
   ],
   "source": [
    "import pandas as pd\n",
    "\n",
    "# date string\n",
    "d_string = \"2023-09-17 14:30:00\"\n",
    "\n",
    "# Convert the string to datetime\n",
    "dt_obj = pd.to_datetime(d_string)\n",
    "\n",
    "print(dt_obj)"
   ]
  },
  {
   "cell_type": "code",
   "execution_count": 5,
   "id": "e0e9027d-f627-482a-adbb-d4d44a0d7776",
   "metadata": {},
   "outputs": [
    {
     "name": "stdout",
     "output_type": "stream",
     "text": [
      "2023-01-01    0.424208\n",
      "2023-01-02    0.431513\n",
      "2023-01-03    0.471312\n",
      "2023-01-04    0.467684\n",
      "2023-01-05    0.347127\n",
      "Freq: D, dtype: float64\n"
     ]
    },
    {
     "name": "stderr",
     "output_type": "stream",
     "text": [
      "C:\\Users\\lenovo\\AppData\\Local\\Temp\\ipykernel_10776\\1147078672.py:4: FutureWarning: 'H' is deprecated and will be removed in a future version, please use 'h' instead.\n",
      "  dates = pd.to_datetime(pd.date_range('2023-01-01', periods=100, freq='H'))\n"
     ]
    }
   ],
   "source": [
    "        import pandas as pd\n",
    "        import numpy as np\n",
    "        # Create a sample time series\n",
    "        dates = pd.to_datetime(pd.date_range('2023-01-01', periods=100, freq='H'))\n",
    "        data = pd.Series(np.random.rand(100), index=dates)\n",
    "\n",
    "        # Resample to daily frequency, taking the mean\n",
    "        daily_data = data.resample('D').mean()\n",
    "        print(daily_data.head())"
   ]
  },
  {
   "cell_type": "markdown",
   "id": "ae5987e9-46a3-4533-838f-d60a8413a637",
   "metadata": {},
   "source": [
    "# visualization"
   ]
  },
  {
   "cell_type": "markdown",
   "id": "cfe91117-447a-44ef-9476-eac3879e7ff2",
   "metadata": {},
   "source": [
    "The df.plot() method in Pandas provides a convenient and straightforward way to generate various\n",
    "basic plots directly from a DataFrame or Series object leveraging Matplotlib under the hood."
   ]
  },
  {
   "cell_type": "code",
   "execution_count": 6,
   "id": "5d0e8f14-188a-4a48-8344-72071ba5f34b",
   "metadata": {},
   "outputs": [
    {
     "data": {
      "image/png": "[encoded data removed]",
      "text/plain": [
       "<Figure size 640x480 with 1 Axes>"
      ]
     },
     "metadata": {},
     "output_type": "display_data"
    }
   ],
   "source": [
    "  import pandas as pd\n",
    "  import numpy as np\n",
    "  import matplotlib.pyplot as plt\n",
    "\n",
    "  df = pd.DataFrame(np.random.randn(100, 3), columns=['p', 'Q', 'd']).cumsum()\n",
    "  df.plot()\n",
    "  plt.show()"
   ]
  },
  {
   "cell_type": "markdown",
   "id": "3395a973-8c49-4237-b5f9-aecaa184b76d",
   "metadata": {},
   "source": [
    "# Condition Selection\n"
   ]
  },
  {
   "cell_type": "code",
   "execution_count": 17,
   "id": "6fc0e1a4-ee51-4436-b7f6-63ba1ff38b09",
   "metadata": {},
   "outputs": [
    {
     "name": "stdout",
     "output_type": "stream",
     "text": [
      "All conditions are true.\n"
     ]
    }
   ],
   "source": [
    "x = 10\n",
    "y = 20\n",
    "z = 5\n",
    "\n",
    "if x > 5 and y > 15 and z < 10:\n",
    "    print(\"All conditions are true.\")\n",
    "else:\n",
    "    print(\"At least one condition is false.\")"
   ]
  },
  {
   "cell_type": "code",
   "execution_count": 1,
   "id": "232ba622-57e0-41d6-9352-530e3d75ae43",
   "metadata": {},
   "outputs": [
    {
     "name": "stdout",
     "output_type": "stream",
     "text": [
      "Eligible for driving (either old enough or has a license).\n"
     ]
    }
   ],
   "source": [
    "age = 25\n",
    "has_license = False\n",
    "\n",
    "if age >= 18 or has_license:\n",
    "    print(\"Eligible for driving (either old enough or has a license).\")\n",
    "else:\n",
    "    print(\"Not eligible for driving.\")"
   ]
  },
  {
   "cell_type": "code",
   "execution_count": null,
   "id": "57f525d5-071e-464f-b225-18bb3810a554",
   "metadata": {},
   "outputs": [],
   "source": []
  }
 ],
 "metadata": {
  "kernelspec": {
   "display_name": "Python 3 (ipykernel)",
   "language": "python",
   "name": "python3"
  },
  "language_info": {
   "codemirror_mode": {
    "name": "ipython",
    "version": 3
   },
   "file_extension": ".py",
   "mimetype": "text/x-python",
   "name": "python",
   "nbconvert_exporter": "python",
   "pygments_lexer": "ipython3",
   "version": "3.12.7"
  }
 },
 "nbformat": 4,
 "nbformat_minor": 5
}
